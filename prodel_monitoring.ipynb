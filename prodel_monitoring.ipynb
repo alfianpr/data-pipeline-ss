{
 "cells": [
  {
   "cell_type": "code",
   "execution_count": 13,
   "metadata": {},
   "outputs": [],
   "source": [
    "import pandas as pd\n",
    "\n",
    "prodev = pd.read_csv(\"https://docs.google.com/spreadsheets/d/e/2PACX-1vRhcAWkWXIjp2XVAsnTLw13QGg6Ot9D_HBf_FMCA42qIWf034T8oKOgV6cTBJS29tfJRPHPyQ4DQJ6s/pub?gid=484546428&single=true&output=csv\")\n",
    "prodel = pd.read_csv(\"https://docs.google.com/spreadsheets/d/e/2PACX-1vRhcAWkWXIjp2XVAsnTLw13QGg6Ot9D_HBf_FMCA42qIWf034T8oKOgV6cTBJS29tfJRPHPyQ4DQJ6s/pub?gid=993257441&single=true&output=csv\")\n"
   ]
  },
  {
   "cell_type": "code",
   "execution_count": 12,
   "metadata": {},
   "outputs": [
    {
     "name": "stdout",
     "output_type": "stream",
     "text": [
      "(0, 'PR00101')\n",
      "(1, 'PR00133')\n",
      "(2, 'PR00096')\n",
      "(3, 'PR00004')\n",
      "(4, 'PR00006')\n",
      "(5, 'PR00064')\n",
      "(6, 'PR00008')\n",
      "(7, 'PR00107')\n",
      "(8, 'PR00061')\n",
      "(9, 'PR00013')\n",
      "(10, 'PR00129')\n",
      "(11, 'PR00062')\n",
      "(12, 'PR00093')\n",
      "(13, 'PR00094')\n",
      "(14, 'PR00095')\n",
      "(15, 'PR00183')\n",
      "(16, 'PR00011')\n",
      "(17, 'PR00201')\n",
      "(18, 'PR00063')\n",
      "(19, 'PR00247')\n",
      "(20, 'PR00226')\n",
      "(21, 'PR00158')\n",
      "(22, 'PR00222')\n",
      "(23, 'PR00059')\n",
      "(24, 'PR00009')\n",
      "(25, 'PR00014')\n",
      "(26, 'PR00055')\n",
      "(27, 'PR00120')\n",
      "(28, 'PR00214')\n",
      "(29, 'PR00087')\n",
      "(30, 'PR00202')\n",
      "(31, 'PR00224')\n",
      "(32, 'PR00078')\n",
      "(33, 'PR00289')\n",
      "(34, 'PR00328')\n",
      "(35, 'PR00234')\n",
      "(36, 'PR00217')\n",
      "(37, nan)\n",
      "(38, 'PR00456')\n",
      "(39, 'PR00440')\n",
      "(40, ' PR00447')\n",
      "(41, 'PR00276')\n",
      "(42, nan)\n",
      "(43, nan)\n",
      "(44, nan)\n",
      "(45, nan)\n",
      "(46, nan)\n",
      "(47, nan)\n",
      "(48, nan)\n",
      "(49, nan)\n",
      "(50, nan)\n",
      "(51, nan)\n",
      "(52, nan)\n"
     ]
    }
   ],
   "source": [
    "unmatch = []\n",
    "for i in prodel[\"project id\"].items():\n",
    "    for j in prodev[\"project_id\"].items():\n",
    "        if j==i:\n",
    "            unmatch.append(\"same\")\n",
    "        else:\n",
    "            unmatch.append(j)"
   ]
  }
 ],
 "metadata": {
  "kernelspec": {
   "display_name": "Python 3.10.4 ('w4c')",
   "language": "python",
   "name": "python3"
  },
  "language_info": {
   "codemirror_mode": {
    "name": "ipython",
    "version": 3
   },
   "file_extension": ".py",
   "mimetype": "text/x-python",
   "name": "python",
   "nbconvert_exporter": "python",
   "pygments_lexer": "ipython3",
   "version": "3.10.4"
  },
  "orig_nbformat": 4,
  "vscode": {
   "interpreter": {
    "hash": "6748b179381be106382ad0fb3b16320272a8a5421539b8fdf1e516f492c142a8"
   }
  }
 },
 "nbformat": 4,
 "nbformat_minor": 2
}
