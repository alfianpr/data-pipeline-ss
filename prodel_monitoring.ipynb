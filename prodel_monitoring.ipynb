{
 "cells": [
  {
   "cell_type": "code",
   "execution_count": 31,
   "metadata": {},
   "outputs": [],
   "source": [
    "import pandas as pd\n",
    "from collections import Counter\n",
    "\n",
    "prodev = pd.read_csv(\"https://docs.google.com/spreadsheets/d/e/2PACX-1vRhcAWkWXIjp2XVAsnTLw13QGg6Ot9D_HBf_FMCA42qIWf034T8oKOgV6cTBJS29tfJRPHPyQ4DQJ6s/pub?gid=484546428&single=true&output=csv\")\n",
    "prodel = pd.read_csv(\"https://docs.google.com/spreadsheets/d/e/2PACX-1vRhcAWkWXIjp2XVAsnTLw13QGg6Ot9D_HBf_FMCA42qIWf034T8oKOgV6cTBJS29tfJRPHPyQ4DQJ6s/pub?gid=993257441&single=true&output=csv\")\n"
   ]
  },
  {
   "cell_type": "code",
   "execution_count": 32,
   "metadata": {},
   "outputs": [],
   "source": [
    "unmatch = []\n",
    "for i in prodel[\"project id\"].items():\n",
    "    for j in prodev[\"project_id\"].items():\n",
    "        if j==i:\n",
    "            unmatch.append(\"same\")\n",
    "        else:\n",
    "            unmatch.append(j)\n",
    "unmatch_2 = []\n",
    "for i in range(len(unmatch)):\n",
    "    unmatch_2.append(unmatch[i][1])\n",
    "\n",
    "unmatch_2 = [i for i in unmatch_2 if not (pd.isnull(i) == True)]"
   ]
  },
  {
   "cell_type": "code",
   "execution_count": 33,
   "metadata": {},
   "outputs": [],
   "source": [
    "temp = Counter(unmatch_2)\n",
    "res = [*temp]"
   ]
  },
  {
   "cell_type": "code",
   "execution_count": 34,
   "metadata": {},
   "outputs": [
    {
     "data": {
      "text/plain": [
       "['PR00015',\n",
       " 'PR00022',\n",
       " 'PR00040',\n",
       " 'PR00145',\n",
       " 'PR00153',\n",
       " 'PR00271',\n",
       " 'PR00186',\n",
       " 'PR00290',\n",
       " 'PR00310',\n",
       " 'project',\n",
       " ' ',\n",
       " '#REF!',\n",
       " 'PR00422',\n",
       " 'PR00423',\n",
       " 'PR00424',\n",
       " 'PR00425',\n",
       " 'PR00426',\n",
       " 'PR00427',\n",
       " 'PR00428',\n",
       " 'PR00429',\n",
       " 'PR00430',\n",
       " 'PR00431',\n",
       " 'PR00432',\n",
       " 'PR00433',\n",
       " 'PR00434',\n",
       " 'PR00435',\n",
       " 'PR00436',\n",
       " 'PR00437',\n",
       " 'PR00438',\n",
       " 'PR00439',\n",
       " 'PR00440',\n",
       " 'PR00441',\n",
       " 'PR00442',\n",
       " 'PR00443',\n",
       " 'PR00444',\n",
       " 'PR00445',\n",
       " 'PR00446',\n",
       " 'PR00447',\n",
       " 'PR00448',\n",
       " 'PR00449',\n",
       " 'PR00450',\n",
       " 'PR00451',\n",
       " 'PR00452',\n",
       " 'PR00453',\n",
       " 'PR00454',\n",
       " 'PR00455',\n",
       " 'PR00456',\n",
       " 'PR00457',\n",
       " 'PR00458',\n",
       " 'PR00459',\n",
       " 'PR00460',\n",
       " 'PR00461',\n",
       " 'PR00462',\n",
       " 'PR00463',\n",
       " 'PR00464',\n",
       " 'PR00465',\n",
       " 'PR00466',\n",
       " 'PR00467',\n",
       " 'PR00468',\n",
       " 'PR00469',\n",
       " 'PR00470',\n",
       " 'PR00471',\n",
       " 'PR00472',\n",
       " 'PR00473',\n",
       " 'PR00474',\n",
       " 'PR00475',\n",
       " 'PR00476',\n",
       " 'PR00477',\n",
       " 'PR00478',\n",
       " 'PR00479',\n",
       " 'PR00480',\n",
       " 'PR00481',\n",
       " 'PR00482',\n",
       " 'PR00400',\n",
       " 'PR00483',\n",
       " 'PR00484',\n",
       " 'PR00485',\n",
       " 'PR00486',\n",
       " 'PR00487',\n",
       " 'PR00488',\n",
       " 'PR00489',\n",
       " 'PR00490',\n",
       " 'PR00491',\n",
       " 'PR00492',\n",
       " 'a']"
      ]
     },
     "execution_count": 34,
     "metadata": {},
     "output_type": "execute_result"
    }
   ],
   "source": [
    "res"
   ]
  }
 ],
 "metadata": {
  "kernelspec": {
   "display_name": "Python 3.10.4 ('w4c')",
   "language": "python",
   "name": "python3"
  },
  "language_info": {
   "codemirror_mode": {
    "name": "ipython",
    "version": 3
   },
   "file_extension": ".py",
   "mimetype": "text/x-python",
   "name": "python",
   "nbconvert_exporter": "python",
   "pygments_lexer": "ipython3",
   "version": "3.10.4"
  },
  "orig_nbformat": 4,
  "vscode": {
   "interpreter": {
    "hash": "6748b179381be106382ad0fb3b16320272a8a5421539b8fdf1e516f492c142a8"
   }
  }
 },
 "nbformat": 4,
 "nbformat_minor": 2
}
