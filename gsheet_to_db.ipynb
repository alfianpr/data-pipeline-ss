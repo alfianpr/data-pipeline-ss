{
 "cells": [
  {
   "cell_type": "code",
   "execution_count": 10,
   "metadata": {},
   "outputs": [
    {
     "name": "stderr",
     "output_type": "stream",
     "text": [
      "/tmp/ipykernel_16938/3066250415.py:66: FutureWarning: The default value of regex will change from True to False in a future version. In addition, single character regular expressions will *not* be treated as literal strings when regex=True.\n",
      "  col.columns = col.columns.str.replace(i, j)\n",
      "/tmp/ipykernel_16938/3066250415.py:66: FutureWarning: The default value of regex will change from True to False in a future version. In addition, single character regular expressions will *not* be treated as literal strings when regex=True.\n",
      "  col.columns = col.columns.str.replace(i, j)\n",
      "/tmp/ipykernel_16938/3066250415.py:66: FutureWarning: The default value of regex will change from True to False in a future version. In addition, single character regular expressions will *not* be treated as literal strings when regex=True.\n",
      "  col.columns = col.columns.str.replace(i, j)\n",
      "/tmp/ipykernel_16938/3066250415.py:66: FutureWarning: The default value of regex will change from True to False in a future version. In addition, single character regular expressions will *not* be treated as literal strings when regex=True.\n",
      "  col.columns = col.columns.str.replace(i, j)\n",
      "/tmp/ipykernel_16938/3066250415.py:66: FutureWarning: The default value of regex will change from True to False in a future version. In addition, single character regular expressions will *not* be treated as literal strings when regex=True.\n",
      "  col.columns = col.columns.str.replace(i, j)\n",
      "/tmp/ipykernel_16938/3066250415.py:66: FutureWarning: The default value of regex will change from True to False in a future version. In addition, single character regular expressions will *not* be treated as literal strings when regex=True.\n",
      "  col.columns = col.columns.str.replace(i, j)\n"
     ]
    },
    {
     "data": {
      "text/plain": [
       "project                           object\n",
       "start                     datetime64[ns]\n",
       "finish                    datetime64[ns]\n",
       "project_id                        object\n",
       "preparation_start_date    datetime64[ns]\n",
       "                               ...      \n",
       "cogs                             float64\n",
       "cash_in                          float64\n",
       "nsm                              float64\n",
       "phase                             object\n",
       "timestamp                 datetime64[ns]\n",
       "Length: 160, dtype: object"
      ]
     },
     "execution_count": 10,
     "metadata": {},
     "output_type": "execute_result"
    }
   ],
   "source": [
    "import pandas as pd\n",
    "from pandas.io import gbq\n",
    "\n",
    "RAW = \"https://docs.google.com/spreadsheets/d/e/2PACX-1vRhcAWkWXIjp2XVAsnTLw13QGg6Ot9D_HBf_FMCA42qIWf034T8oKOgV6cTBJS29tfJRPHPyQ4DQJ6s/pub?gid=1990926458&single=true&output=csv\"\n",
    "\n",
    "SCHEMA = {\n",
    "    \"project\" : \"object\",\n",
    "    \"start\" : \"datetime64[ns]\",\n",
    "    \"finish\" : \"datetime64[ns]\",\n",
    "    \"project_id\" : \"object\",\n",
    "    \"preparation_start_date\" : \"datetime64[ns]\",\n",
    "    \"ready_to_deploy_date\" : \"datetime64[ns]\",\n",
    "    \n",
    "}\n",
    "\n",
    "df = pd.read_csv(RAW)\n",
    "\n",
    "df = df.rename({\"Timestamp\":\"last_record\"}, axis=1)\n",
    "df[\"Date Leads Acquired\"] = df[\"Date Leads Acquired\"].astype('datetime64[ns]')\n",
    "df[\"Delegation Date\"] = df[\"Delegation Date\"].astype('datetime64[ns]')\n",
    "df[\"Main Activity Start Date\"] = df[\"Main Activity Start Date\"].astype('datetime64[ns]')\n",
    "df[\"Main Activity End Date\"] = df[\"Main Activity End Date\"].astype('datetime64[ns]')\n",
    "df[\"Final Report Submitted Date\"] = df[\"Final Report Submitted Date\"].astype('datetime64[ns]')\n",
    "df[\"Project Archived Date\"] = df[\"Project Archived Date\"].astype('datetime64[ns]')\n",
    "\n",
    "df_drop = df.drop([\"Project Name\", \"Date Leads Acquired\", \n",
    "                    \"Delegation Date\", \"Main Activity Start Date\",\n",
    "                    \"Main Activity End Date\", \"Final Report Submitted Date\", \n",
    "                    \"Project Archived Date\"], axis=1)\n",
    "\n",
    "def phase(start, finish, phase):\n",
    "    df_phase = df[[\"Project Name\", start, finish]]\n",
    "    df_phase = pd.concat([df_phase, df_drop], axis=1)\n",
    "    df_phase = df_phase.dropna(subset=[\"Project Name\"])\n",
    "    df_phase[\"Phase\"] = phase\n",
    "    df_phase.rename(columns = {\"Project Name\":\"Project\", start:\"Start\", finish:\"Finish\"}, inplace=True)\n",
    "    df_phase[\"Start\"] = pd.to_datetime(df_phase[\"Start\"])\n",
    "    df_phase[\"Finish\"] = pd.to_datetime(df_phase[\"Finish\"])\n",
    "    return df_phase\n",
    "\n",
    "#Create Phase Columns\n",
    "df_development = phase(start=\"Date Leads Acquired\", finish=\"Delegation Date\", phase=\"Development\")\n",
    "df_preparation = phase(start=\"Delegation Date\", finish=\"Main Activity Start Date\", phase=\"Preparation\")\n",
    "df_active = phase(start=\"Main Activity Start Date\", finish=\"Main Activity End Date\", phase=\"Active\")\n",
    "df_reporting = phase(start=\"Main Activity End Date\", finish=\"Final Report Submitted Date\", phase=\"Reporting\")\n",
    "df_closing = phase(start=\"Final Report Submitted Date\", finish=\"Project Archived Date\", phase=\"Closing\")\n",
    "df_gantt = pd.concat(\n",
    "                [df_development, df_preparation, df_active, df_reporting, df_closing], \n",
    "                ignore_index=True)\n",
    "\n",
    "df_gantt[\"timestamp\"] = pd.Timestamp('now')\n",
    "\n",
    "#cleaning columns\n",
    "replace = {\n",
    "    ' ' : '_',\n",
    "    '-' : '_',\n",
    "    '.' : '_',\n",
    "    '?' : '',\n",
    "    '[' : '',\n",
    "    ']' : '',\n",
    "    '(' : '',\n",
    "    ')' : ''\n",
    "}\n",
    "\n",
    "def clean_col (col, clean_col):\n",
    "  col.columns = col.columns.str.lower()\n",
    "  for i, j in clean_col.items():\n",
    "    col.columns = col.columns.str.replace(i, j)\n",
    "  return col\n",
    "\n",
    "df_2 = clean_col(df_gantt, replace)\n",
    "\n",
    "df_2 = df_2.astype(SCHEMA)\n",
    "pd.set_option('display.max_columns', None)\n",
    "df_2.dtypes"
   ]
  }
 ],
 "metadata": {
  "kernelspec": {
   "display_name": "Python 3.10.4 ('w4c')",
   "language": "python",
   "name": "python3"
  },
  "language_info": {
   "codemirror_mode": {
    "name": "ipython",
    "version": 3
   },
   "file_extension": ".py",
   "mimetype": "text/x-python",
   "name": "python",
   "nbconvert_exporter": "python",
   "pygments_lexer": "ipython3",
   "version": "3.10.4"
  },
  "orig_nbformat": 4,
  "vscode": {
   "interpreter": {
    "hash": "6748b179381be106382ad0fb3b16320272a8a5421539b8fdf1e516f492c142a8"
   }
  }
 },
 "nbformat": 4,
 "nbformat_minor": 2
}
