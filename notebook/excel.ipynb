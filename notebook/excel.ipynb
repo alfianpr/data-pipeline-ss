{
 "cells": [
  {
   "cell_type": "code",
   "execution_count": 21,
   "metadata": {},
   "outputs": [
    {
     "name": "stdout",
     "output_type": "stream",
     "text": [
      "                                              1  date        Value\n",
      "0                                   Nama Proyek     0           No\n",
      "1               Benioff Ocean Initiatives (BOI)     0            1\n",
      "2                 Advisory TPS 3R Wilayah Timur     0            2\n",
      "3             River Waste Study (Solo-Surabaya)     0            3\n",
      "4                          Waste Picker Wage PP     0            4\n",
      "...                                         ...   ...          ...\n",
      "6583              Akabis Class ABeam Consulting    36         None\n",
      "6584                Akabis Xperience GIZ CAPSEA    36         None\n",
      "6585  Akabis Workshop PT Pasar Jasa Profesional    36         None\n",
      "6586                         Akabis Class Unido    36         None\n",
      "6587                                               36  952.640.750\n",
      "\n",
      "[6588 rows x 3 columns]\n"
     ]
    }
   ],
   "source": [
    "from __future__ import print_function\n",
    "import os.path\n",
    "from google.auth.transport.requests import Request\n",
    "from google.oauth2.credentials import Credentials\n",
    "from google_auth_oauthlib.flow import InstalledAppFlow\n",
    "from googleapiclient.discovery import build\n",
    "from googleapiclient.errors import HttpError\n",
    "import pandas as pd\n",
    "\n",
    "# If modifying these scopes, delete the file token.json.\n",
    "SCOPES = ['https://www.googleapis.com/auth/spreadsheets.readonly']\n",
    "\n",
    "# The ID and range of a sample spreadsheet.\n",
    "SPREADSHEET_ID = '1SuwNOxpQqEAM8yoJZnCPywFZ_SlR23otGhbGqtwzONQ'\n",
    "RANGE_NAME = 'revenue'\n",
    "\n",
    "\n",
    "def main():\n",
    "    \"\"\"Shows basic usage of the Sheets API.\n",
    "    Prints values from a sample spreadsheet.\n",
    "    \"\"\"\n",
    "    creds = None\n",
    "    # The file token.json stores the user's access and refresh tokens, and is\n",
    "    # created automatically when the authorization flow completes for the first\n",
    "    # time.\n",
    "    if os.path.exists('../key/rev_token.json'):\n",
    "        creds = Credentials.from_authorized_user_file('../key/rev_token.json', SCOPES)\n",
    "    # If there are no (valid) credentials available, let the user log in.\n",
    "    if not creds or not creds.valid:\n",
    "        if creds and creds.expired and creds.refresh_token:\n",
    "            creds.refresh(Request())\n",
    "        else:\n",
    "            flow = InstalledAppFlow.from_client_secrets_file(\n",
    "                '../key/OAuth.json', SCOPES)\n",
    "            creds = flow.run_local_server(port=0)\n",
    "        # Save the credentials for the next run\n",
    "        with open('../key/rev_token.json', 'w') as token:\n",
    "            token.write(creds.to_json())\n",
    "\n",
    "    try:\n",
    "        service = build('sheets', 'v4', credentials=creds)\n",
    "\n",
    "        # Call the Sheets API\n",
    "        sheet = service.spreadsheets()\n",
    "        result = sheet.values().get(spreadsheetId=SPREADSHEET_ID,\n",
    "                                    range=RANGE_NAME).execute()\n",
    "        values = result.get('values', [])\n",
    "\n",
    "        df = pd.DataFrame(values)\n",
    "\n",
    "        df_2 = df.melt(id_vars=[1], var_name=\"date\", value_name=\"Value\")\n",
    "\n",
    "        print(df_2)\n",
    "        #cleaning columns\n",
    "        #replace = {' ' : '_', '-' : '_', '.' : '_', '?' : '', '[' : '', ']' : '', '(' : '', ')' : ''}\n",
    "\n",
    "        #def clean_col (col, clean_col):\n",
    "        #    col.columns = col.columns.str.lower()\n",
    "        #    for i, j in clean_col.items():\n",
    "        #        col.columns = col.columns.str.replace(i, j)\n",
    "        #    return col\n",
    "        \n",
    "        #df_2 = clean_col(df, replace)\n",
    "\n",
    "        #df_2\n",
    "\n",
    "\n",
    "    except HttpError as err:\n",
    "        print(err)\n",
    "\n",
    "\n",
    "if __name__ == '__main__':\n",
    "    main()"
   ]
  },
  {
   "cell_type": "code",
   "execution_count": null,
   "metadata": {},
   "outputs": [],
   "source": []
  }
 ],
 "metadata": {
  "kernelspec": {
   "display_name": "Python 3.10.4 ('w4c')",
   "language": "python",
   "name": "python3"
  },
  "language_info": {
   "codemirror_mode": {
    "name": "ipython",
    "version": 3
   },
   "file_extension": ".py",
   "mimetype": "text/x-python",
   "name": "python",
   "nbconvert_exporter": "python",
   "pygments_lexer": "ipython3",
   "version": "3.10.4"
  },
  "orig_nbformat": 4,
  "vscode": {
   "interpreter": {
    "hash": "6748b179381be106382ad0fb3b16320272a8a5421539b8fdf1e516f492c142a8"
   }
  }
 },
 "nbformat": 4,
 "nbformat_minor": 2
}
